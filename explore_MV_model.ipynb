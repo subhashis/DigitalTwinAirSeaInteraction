{
 "cells": [
  {
   "cell_type": "code",
   "execution_count": 1,
   "metadata": {},
   "outputs": [
    {
     "name": "stdout",
     "output_type": "stream",
     "text": [
      "2.0.1+cu117\n",
      "2.0.1+cu117\n"
     ]
    }
   ],
   "source": [
    "import torch.nn.functional as F\n",
    "from utilities3 import *\n",
    "from timeit import default_timer\n",
    "\n",
    "import numpy as np\n",
    "import torch\n",
    "print(torch.__version__)\n",
    "\n",
    "import torch.nn as nn\n",
    "import torch.nn.functional as F\n",
    "import torch.optim as optim\n",
    "#from torchinfo import summary\n",
    "import sys\n",
    "import netCDF4 as nc\n",
    "from data_loader_SSH import load_test_data, load_test_data_DTAS\n",
    "from data_loader_SSH import load_train_data, load_train_data_DTAS\n",
    "from count_trainable_params import count_parameters\n",
    "import hdf5storage"
   ]
  },
  {
   "cell_type": "code",
   "execution_count": 2,
   "metadata": {},
   "outputs": [],
   "source": [
    "import matplotlib.pyplot as plt\n",
    "import pandas as pd"
   ]
  },
  {
   "cell_type": "code",
   "execution_count": 3,
   "metadata": {},
   "outputs": [],
   "source": [
    "torch.manual_seed(0)\n",
    "np.random.seed(0)"
   ]
  },
  {
   "attachments": {},
   "cell_type": "markdown",
   "metadata": {},
   "source": [
    "### Config"
   ]
  },
  {
   "cell_type": "code",
   "execution_count": 17,
   "metadata": {},
   "outputs": [],
   "source": [
    "datastore_filepath = '/data/NASA_DTAS_datastore/'\n",
    "filename_dict = {\n",
    "    'u10' : 'U10_large_domain/U10deg_025',\n",
    "    'v10' : 'V10_large_domain/V10deg_025',\n",
    "    't2m' : 'T2m_large_domain/T2mdeg_025',\n",
    "    'mslhf' : 'MSLHF_large_domain/MSLHFdeg_025',\n",
    "    'msshf' : 'MSSHF_large_domain/MSSHFdeg_025'\n",
    "}\n",
    "\n",
    "def get_testdata(yr, vlist, lead):\n",
    "    \"\"\"\n",
    "    high-level wrapper to extract input/label data in torch format from nc file for multiple variables\n",
    "    --------------------------\n",
    "    arg: year, list of variables to extract, lead no. of timestep\n",
    "    \n",
    "    \"\"\"\n",
    "    input_array_torch = torch.zeros((2,2,2,2))\n",
    "    label_array_torch = torch.zeros((2,2,2,2))\n",
    "    grid_size = 0\n",
    "\n",
    "    for i,v in enumerate(vlist):\n",
    "        DS = nc.Dataset(datastore_filepath + filename_dict[v] + str(yr) + '.nc')\n",
    "        if i == 0:\n",
    "            input_array_torch, label_array_torch, grid_size  = load_test_data_DTAS(DS, lead, v)\n",
    "        else:\n",
    "            input_torch, label_torch, _ = load_test_data_DTAS(DS, lead, v)\n",
    "            input_array_torch = torch.concatenate((input_array_torch, input_torch), axis=1)\n",
    "            label_array_torch = torch.concatenate((label_array_torch, label_torch), axis=1)\n",
    "            \n",
    "    return input_array_torch, label_array_torch, grid_size\n",
    "\n",
    "def get_traindata(yr, vlist, lead, trainN):\n",
    "    \"\"\"\n",
    "    high-level wrapper to extract input/label data in torch format from nc file for multiple variables\n",
    "    --------------------------\n",
    "    arg: year, list of variables to extract, lead no. of timestep\n",
    "    \n",
    "    \"\"\"\n",
    "    input_array_torch = torch.zeros((2,2,2,2))\n",
    "    label_array_torch = torch.zeros((2,2,2,2))\n",
    "    grid_size = 0\n",
    "\n",
    "    for i,v in enumerate(vlist):\n",
    "        # print(\"dMsg:\", i, v)\n",
    "        DS = nc.Dataset(datastore_filepath + filename_dict[v] + str(yr) + '.nc')\n",
    "        if i == 0:\n",
    "            input_array_torch, label_array_torch, grid_size  = load_train_data_DTAS(DS, lead, trainN, v)\n",
    "        else:\n",
    "            input_torch, label_torch, _ = load_train_data_DTAS(DS, lead, trainN, v)\n",
    "            input_array_torch = torch.concatenate((input_array_torch, input_torch), axis=1)\n",
    "            label_array_torch = torch.concatenate((label_array_torch, label_torch), axis=1)\n",
    "            \n",
    "    return input_array_torch, label_array_torch, grid_size\n",
    "\n",
    "        \n",
    "    "
   ]
  },
  {
   "cell_type": "code",
   "execution_count": 5,
   "metadata": {},
   "outputs": [],
   "source": [
    "path_outputs = '/data/NASA_DTAS_datastore/ML_models/experimental/'\n",
    "\n",
    "# FF=nc.Dataset('/data/NASA_DTAS_datastore/MSSHF_large_domain/MSSHFdeg_0252019.nc')"
   ]
  },
  {
   "cell_type": "code",
   "execution_count": 6,
   "metadata": {},
   "outputs": [],
   "source": [
    "lead = 1\n",
    "varlist = ['mslhf', 'msshf']\n",
    "\n",
    "# psi_test_input_Tr_torch, psi_test_label_Tr_torch,_  = load_test_data(FF,lead)\n",
    "psi_test_input_Tr_torch, psi_test_label_Tr_torch,_ = get_testdata(2019, varlist, lead)"
   ]
  },
  {
   "cell_type": "code",
   "execution_count": 7,
   "metadata": {},
   "outputs": [
    {
     "name": "stdout",
     "output_type": "stream",
     "text": [
      "torch.Size([8759, 2, 65, 121])\n",
      "torch.Size([8759, 2, 65, 121])\n"
     ]
    }
   ],
   "source": [
    "print(psi_test_input_Tr_torch.shape)\n",
    "print(psi_test_label_Tr_torch.shape)"
   ]
  },
  {
   "cell_type": "code",
   "execution_count": 8,
   "metadata": {},
   "outputs": [],
   "source": [
    "# M_test_level1=torch.mean((psi_test_input_Tr_torch.flatten()))\n",
    "# STD_test_level1=torch.std((psi_test_input_Tr_torch.flatten()))\n",
    "M_test_level1 = torch.mean(psi_test_input_Tr_torch, (0,2,3))\n",
    "STD_test_level1 = torch.std(psi_test_input_Tr_torch, (0,2,3))"
   ]
  },
  {
   "cell_type": "code",
   "execution_count": 9,
   "metadata": {},
   "outputs": [
    {
     "name": "stdout",
     "output_type": "stream",
     "text": [
      "mean value tensor([-133.3054,  -27.5596])\n",
      "std value tensor([130.9617,  60.5951])\n"
     ]
    }
   ],
   "source": [
    "psi_test_input_Tr_torch_norm_level1 = torch.zeros_like(psi_test_input_Tr_torch)\n",
    "psi_test_label_Tr_torch_norm_level1 = torch.zeros_like(psi_test_label_Tr_torch)\n",
    "\n",
    "for i in range(len(varlist)):\n",
    "    psi_test_input_Tr_torch_norm_level1[:,i,None,:,:] = ((psi_test_input_Tr_torch[:,i,None,:,:]-M_test_level1[i])/STD_test_level1[i])\n",
    "    psi_test_label_Tr_torch_norm_level1[:,i,None,:,:] = ((psi_test_label_Tr_torch[:,i,None,:,:]-M_test_level1[i])/STD_test_level1[i])\n",
    "    \n",
    "    \n",
    "# psi_test_input_Tr_torch_norm_level1 = ((psi_test_input_Tr_torch[:,0,None,:,:]-M_test_level1)/STD_test_level1)\n",
    "# psi_test_label_Tr_torch_norm_level1 = ((psi_test_label_Tr_torch[:,0,None,:,:]-M_test_level1)/STD_test_level1)\n",
    "\n",
    "print('mean value',M_test_level1)\n",
    "print('std value',STD_test_level1)"
   ]
  },
  {
   "cell_type": "code",
   "execution_count": 10,
   "metadata": {},
   "outputs": [],
   "source": [
    "def regular_loss(output, target):\n",
    "\n",
    " loss = torch.mean((output-target)**2)\n",
    " return loss\n",
    "\n",
    "def ocean_loss(output, target, ocean_grid):\n",
    "\n",
    " loss = (torch.sum((output-target)**2))/ocean_grid\n",
    " return loss\n",
    "\n",
    "def spectral_loss(output, target,wavenum_init,wavenum_init_ydir,lamda_reg,ocean_grid):\n",
    "\n",
    " loss1 = torch.sum((output-target)**2)/ocean_grid\n",
    "\n",
    "# out_fft = torch.mean(torch.abs(torch.fft.rfft(output[:,:,:,0],dim=2)),dim=1)\n",
    "# target_fft = torch.mean(torch.abs(torch.fft.rfft(target[:,:,:,0],dim=2)),dim=1)\n",
    "\n",
    " out_fft_ydir = torch.mean(torch.abs(torch.fft.rfft(output[:,:,:,0],dim=1)),dim=2)\n",
    " target_fft_ydir = torch.mean(torch.abs(torch.fft.rfft(target[:,:,:,0],dim=1)),dim=2)\n",
    "\n",
    "\n",
    "# loss2 = torch.mean(torch.abs(out_fft[:,wavenum_init:]-target_fft[:,wavenum_init:]))\n",
    " loss2_ydir = torch.mean(torch.abs(out_fft_ydir[:,wavenum_init_ydir:]-target_fft_ydir[:,wavenum_init_ydir:]))\n",
    "\n",
    " loss = ((1-lamda_reg)*loss1 + lamda_reg**loss2_ydir)\n",
    "\n",
    " return loss\n",
    "\n",
    "def RK4step(net,input_batch):\n",
    " output_1 = net(input_batch.cuda())\n",
    " output_2= net(input_batch.cuda()+0.5*output_1)\n",
    " output_3 = net(input_batch.cuda()+0.5*output_2)\n",
    " output_4 = net(input_batch.cuda()+output_3)\n",
    "\n",
    " return input_batch.cuda() + (output_1+2*output_2+2*output_3+output_4)/6\n",
    "\n",
    "\n",
    "def Eulerstep(net,input_batch):\n",
    " output_1 = net(input_batch.cuda())\n",
    " return input_batch.cuda() + (output_1)\n",
    "\n",
    "\n",
    "def directstep(net,input_batch):\n",
    "  output_1 = net(input_batch.cuda())\n",
    "  return output_1\n",
    "\n",
    "def PECstep(net,input_batch):\n",
    " output_1 = net(input_batch.cuda()) + input_batch.cuda()\n",
    " return input_batch.cuda() + 0.5*(net(input_batch.cuda())+net(output_1))"
   ]
  },
  {
   "cell_type": "code",
   "execution_count": 11,
   "metadata": {},
   "outputs": [],
   "source": [
    "psi_test_label_Tr = psi_test_label_Tr_torch.detach().cpu().numpy()\n",
    "Nlat = np.size(psi_test_label_Tr,2)\n",
    "Nlon = np.size(psi_test_label_Tr,3)\n",
    "\n",
    "# batch_size = 10 \n",
    "num_epochs = 40\n",
    "num_samples = 2\n",
    "\n",
    "lamda_reg =0.1\n",
    "wavenum_init=0\n",
    "wavenum_init_ydir=0\n",
    "\n",
    "\n",
    "\n",
    "modes = 16\n",
    "width = 20\n",
    "\n",
    "batch_size = 40\n",
    "learning_rate = 0.001\n",
    "epochs = 40"
   ]
  },
  {
   "attachments": {},
   "cell_type": "markdown",
   "metadata": {},
   "source": [
    "## training and evaluation"
   ]
  },
  {
   "cell_type": "code",
   "execution_count": 22,
   "metadata": {},
   "outputs": [],
   "source": [
    "class SpectralConv2d(nn.Module):\n",
    "    def __init__(self, in_channels, out_channels, modes1, modes2):\n",
    "        super(SpectralConv2d, self).__init__()\n",
    "\n",
    "        \"\"\"\n",
    "        2D Fourier layer. It does FFT, linear transform, and Inverse FFT.    \n",
    "        \"\"\"\n",
    "\n",
    "        self.in_channels = in_channels\n",
    "        self.out_channels = out_channels\n",
    "        self.modes1 = modes1 #Number of Fourier modes to multiply, at most floor(N/2) + 1\n",
    "        self.modes2 = modes2\n",
    "\n",
    "        self.scale = (1 / (in_channels * out_channels))\n",
    "        self.weights1 = nn.Parameter(self.scale * torch.rand(in_channels, out_channels, self.modes1, self.modes2, dtype=torch.cfloat))\n",
    "        self.weights2 = nn.Parameter(self.scale * torch.rand(in_channels, out_channels, self.modes1, self.modes2, dtype=torch.cfloat))\n",
    "\n",
    "    # Complex multiplication\n",
    "    def compl_mul2d(self, input, weights):\n",
    "        # (batch, in_channel, x,y ), (in_channel, out_channel, x,y) -> (batch, out_channel, x,y)\n",
    "        return torch.einsum(\"bixy,ioxy->boxy\", input, weights)\n",
    "\n",
    "    def forward(self, x):\n",
    "        batchsize = x.shape[0]\n",
    "        #Compute Fourier coeffcients up to factor of e^(- something constant)\n",
    "        x_ft = torch.fft.rfft2(x)\n",
    "\n",
    "        # Multiply relevant Fourier modes\n",
    "        out_ft = torch.zeros(batchsize, self.out_channels,  x.size(-2), x.size(-1)//2 + 1, dtype=torch.cfloat, device=x.device)\n",
    "        out_ft[:, :, :self.modes1, :self.modes2] = \\\n",
    "            self.compl_mul2d(x_ft[:, :, :self.modes1, :self.modes2], self.weights1)\n",
    "        out_ft[:, :, -self.modes1:, :self.modes2] = \\\n",
    "            self.compl_mul2d(x_ft[:, :, -self.modes1:, :self.modes2], self.weights2)\n",
    "\n",
    "        #Return to physical space\n",
    "        x = torch.fft.irfft2(out_ft, s=(x.size(-2), x.size(-1)))\n",
    "        return x\n",
    "\n",
    "class MLP(nn.Module):\n",
    "    def __init__(self, in_channels, out_channels, mid_channels):\n",
    "        super(MLP, self).__init__()\n",
    "        self.mlp1 = nn.Conv2d(in_channels, mid_channels, 1)\n",
    "        self.mlp2 = nn.Conv2d(mid_channels, out_channels, 1)\n",
    "\n",
    "    def forward(self, x):\n",
    "        x = self.mlp1(x)\n",
    "        x = F.gelu(x)\n",
    "        x = self.mlp2(x)\n",
    "        return x\n",
    "\n",
    "class FNO2d(nn.Module):\n",
    "    def __init__(self, modes1, modes2, width):\n",
    "        super(FNO2d, self).__init__()\n",
    "\n",
    "        \"\"\"\n",
    "        The overall network. It contains 4 layers of the Fourier layer.\n",
    "        1. Lift the input to the desire channel dimension by self.fc0 .\n",
    "        2. 4 layers of the integral operators u' = (W + K)(u).\n",
    "            W defined by self.w; K defined by self.conv .\n",
    "        3. Project from the channel space to the output space by self.fc1 and self.fc2 .\n",
    "        \n",
    "        input: the solution of the previous 10 timesteps + 2 locations (u(t-10, x, y), ..., u(t-1, x, y),  x, y)\n",
    "        input shape: (batchsize, x=64, y=64, c=12)\n",
    "        output: the solution of the next timestep\n",
    "        output shape: (batchsize, x=64, y=64, c=1)\n",
    "        \"\"\"\n",
    "\n",
    "        self.modes1 = modes1\n",
    "        self.modes2 = modes2\n",
    "        self.width = width\n",
    "        self.padding = 8 # pad the domain if input is non-periodic\n",
    "\n",
    "        self.p = nn.Linear(4, self.width) # input channel is 12: the solution of the previous 10 timesteps + 2 locations (u(t-10, x, y), ..., u(t-1, x, y),  x, y)\n",
    "        self.conv0 = SpectralConv2d(self.width, self.width, self.modes1, self.modes2)\n",
    "        self.conv1 = SpectralConv2d(self.width, self.width, self.modes1, self.modes2)\n",
    "        self.conv2 = SpectralConv2d(self.width, self.width, self.modes1, self.modes2)\n",
    "        self.conv3 = SpectralConv2d(self.width, self.width, self.modes1, self.modes2)\n",
    "        self.mlp0 = MLP(self.width, self.width, self.width)\n",
    "        self.mlp1 = MLP(self.width, self.width, self.width)\n",
    "        self.mlp2 = MLP(self.width, self.width, self.width)\n",
    "        self.mlp3 = MLP(self.width, self.width, self.width)\n",
    "        self.w0 = nn.Conv2d(self.width, self.width, 1)\n",
    "        self.w1 = nn.Conv2d(self.width, self.width, 1)\n",
    "        self.w2 = nn.Conv2d(self.width, self.width, 1)\n",
    "        self.w3 = nn.Conv2d(self.width, self.width, 1)\n",
    "        self.norm = nn.InstanceNorm2d(self.width)\n",
    "        self.q = MLP(self.width, 1, self.width * 4) # output channel is 1: u(x, y)\n",
    "\n",
    "    def forward(self, x):\n",
    "        grid = self.get_grid(x.shape, x.device)\n",
    "        x = torch.cat((x, grid), dim=-1)\n",
    "        x = self.p(x)\n",
    "        x = x.permute(0, 3, 1, 2)\n",
    "        # x = F.pad(x, [0,self.padding, 0,self.padding]) # pad the domain if input is non-periodic\n",
    "\n",
    "        x1 = self.norm(self.conv0(self.norm(x)))\n",
    "        x1 = self.mlp0(x1)\n",
    "        x2 = self.w0(x)\n",
    "        x = x1 + x2\n",
    "        x = F.gelu(x)\n",
    "\n",
    "        x1 = self.norm(self.conv1(self.norm(x)))\n",
    "        x1 = self.mlp1(x1)\n",
    "        x2 = self.w1(x)\n",
    "        x = x1 + x2\n",
    "        x = F.gelu(x)\n",
    "\n",
    "        x1 = self.norm(self.conv2(self.norm(x)))\n",
    "        x1 = self.mlp2(x1)\n",
    "        x2 = self.w2(x)\n",
    "        x = x1 + x2\n",
    "        x = F.gelu(x)\n",
    "\n",
    "        x1 = self.norm(self.conv3(self.norm(x)))\n",
    "        x1 = self.mlp3(x1)\n",
    "        x2 = self.w3(x)\n",
    "        x = x1 + x2\n",
    "\n",
    "        # x = x[..., :-self.padding, :-self.padding] # pad the domain if input is non-periodic\n",
    "        x = self.q(x)\n",
    "        x = x.permute(0, 2, 3, 1)\n",
    "        return x\n",
    "\n",
    "    def get_grid(self, shape, device):\n",
    "        batchsize, size_x, size_y = shape[0], shape[1], shape[2]\n",
    "        gridx = torch.tensor(np.linspace(0, 1, size_x), dtype=torch.float)\n",
    "        gridx = gridx.reshape(1, size_x, 1, 1).repeat([batchsize, 1, size_y, 1])\n",
    "        gridy = torch.tensor(np.linspace(0, 1, size_y), dtype=torch.float)\n",
    "        gridy = gridy.reshape(1, 1, size_y, 1).repeat([batchsize, size_x, 1, 1])\n",
    "        return torch.cat((gridx, gridy), dim=-1).to(device)"
   ]
  },
  {
   "cell_type": "code",
   "execution_count": 26,
   "metadata": {},
   "outputs": [
    {
     "name": "stdout",
     "output_type": "stream",
     "text": [
      "1645301\n"
     ]
    }
   ],
   "source": [
    "net = FNO2d(modes, modes, width).cuda()\n",
    "print(count_params(net))\n",
    "optimizer = torch.optim.SGD(net.parameters(), lr=learning_rate, weight_decay=1e-4)\n"
   ]
  },
  {
   "cell_type": "code",
   "execution_count": 27,
   "metadata": {},
   "outputs": [
    {
     "data": {
      "text/plain": [
       "torch.Size([2, 2, 65, 121])"
      ]
     },
     "execution_count": 27,
     "metadata": {},
     "output_type": "execute_result"
    }
   ],
   "source": [
    "psi_test_input_Tr_torch_norm_level1[0:num_samples,:,0:Nlat,0:Nlon].shape"
   ]
  },
  {
   "cell_type": "code",
   "execution_count": 28,
   "metadata": {},
   "outputs": [
    {
     "name": "stdout",
     "output_type": "stream",
     "text": [
      "File index 1992\n",
      "Ocean grid 7865\n",
      "[1,     1] loss: 1.866\n",
      "[1,     1] val_loss: 0.710\n",
      "[1,   201] loss: 2.471\n",
      "[1,   201] val_loss: 0.819\n",
      "[1,   401] loss: 6.887\n",
      "[1,   401] val_loss: 0.809\n",
      "[1,   601] loss: 4.730\n",
      "[1,   601] val_loss: 0.765\n",
      "[1,   801] loss: 2.438\n",
      "[1,   801] val_loss: 0.794\n",
      "[1,  1001] loss: 3.924\n",
      "[1,  1001] val_loss: 0.734\n",
      "[1,  1201] loss: 1.604\n",
      "[1,  1201] val_loss: 0.817\n",
      "[1,  1401] loss: 3.071\n",
      "[1,  1401] val_loss: 0.780\n",
      "[1,  1601] loss: 2.005\n",
      "[1,  1601] val_loss: 0.797\n",
      "[1,  1801] loss: 4.502\n",
      "[1,  1801] val_loss: 0.764\n",
      "[1,  2001] loss: 3.400\n",
      "[1,  2001] val_loss: 0.763\n",
      "[1,  2201] loss: 1.819\n",
      "[1,  2201] val_loss: 0.797\n",
      "[1,  2401] loss: 1.915\n",
      "[1,  2401] val_loss: 0.796\n",
      "[1,  2601] loss: 2.133\n",
      "[1,  2601] val_loss: 0.794\n",
      "[1,  2801] loss: 1.827\n",
      "[1,  2801] val_loss: 0.829\n",
      "[1,  3001] loss: 1.561\n",
      "[1,  3001] val_loss: 0.825\n",
      "[1,  3201] loss: 1.370\n",
      "[1,  3201] val_loss: 0.810\n",
      "[1,  3401] loss: 1.691\n",
      "[1,  3401] val_loss: 0.814\n",
      "[1,  3601] loss: 1.501\n",
      "[1,  3601] val_loss: 0.822\n",
      "[1,  3801] loss: 1.288\n",
      "[1,  3801] val_loss: 0.817\n",
      "[1,  4001] loss: 1.673\n",
      "[1,  4001] val_loss: 0.816\n",
      "[1,  4201] loss: 1.292\n",
      "[1,  4201] val_loss: 0.813\n",
      "[1,  4401] loss: 1.743\n",
      "[1,  4401] val_loss: 0.796\n",
      "[1,  4601] loss: 1.272\n",
      "[1,  4601] val_loss: 0.799\n",
      "[1,  4801] loss: 1.190\n",
      "[1,  4801] val_loss: 0.791\n",
      "[1,  5001] loss: 1.324\n",
      "[1,  5001] val_loss: 0.799\n",
      "[1,  5201] loss: 1.328\n",
      "[1,  5201] val_loss: 0.801\n",
      "[1,  5401] loss: 1.284\n",
      "[1,  5401] val_loss: 0.806\n",
      "[1,  5601] loss: 1.436\n",
      "[1,  5601] val_loss: 0.788\n",
      "[1,  5801] loss: 1.464\n",
      "[1,  5801] val_loss: 0.803\n",
      "[1,  6001] loss: 1.557\n",
      "[1,  6001] val_loss: 0.796\n",
      "[1,  6201] loss: 1.360\n",
      "[1,  6201] val_loss: 0.793\n",
      "[1,  6401] loss: 1.583\n",
      "[1,  6401] val_loss: 0.802\n",
      "[1,  6601] loss: 2.213\n",
      "[1,  6601] val_loss: 0.809\n",
      "[1,  6801] loss: 1.334\n",
      "[1,  6801] val_loss: 0.792\n",
      "[1,  7001] loss: 2.614\n",
      "[1,  7001] val_loss: 0.784\n",
      "[1,  7201] loss: 1.475\n",
      "[1,  7201] val_loss: 0.807\n",
      "[1,  7401] loss: 1.812\n",
      "[1,  7401] val_loss: 0.791\n",
      "[1,  7601] loss: 1.980\n",
      "[1,  7601] val_loss: 0.771\n",
      "[1,  7801] loss: 2.317\n",
      "[1,  7801] val_loss: 0.761\n",
      "[1,  8001] loss: 1.720\n",
      "[1,  8001] val_loss: 0.774\n",
      "[1,  8201] loss: 2.145\n",
      "[1,  8201] val_loss: 0.744\n",
      "[1,  8401] loss: 1.552\n",
      "[1,  8401] val_loss: 0.811\n",
      "Finished Training\n"
     ]
    }
   ],
   "source": [
    "for epoch in range(0, 1):  # loop over the dataset multiple times\n",
    "\n",
    " running_loss = 0.0\n",
    "\n",
    "\n",
    " for k in range(1992,1993):\n",
    "  print('File index',k)\n",
    "\n",
    "#   G = nc.Dataset('/data/NASA_DTAS_datastore/MSSHF_large_domain/MSSHFdeg_025'+str(k)+'.nc')\n",
    "  trainN=8500\n",
    "#   psi_train_input_Tr_torch, psi_train_label_Tr_torch, ocean_grid  = load_train_data(G,lead,trainN)\n",
    "  psi_train_input_Tr_torch, psi_train_label_Tr_torch, ocean_grid = get_traindata(k, varlist, lead, trainN)\n",
    "  print('Ocean grid',ocean_grid)\n",
    "  \n",
    "  # M_train_level1=torch.mean((psi_train_input_Tr_torch.flatten()))\n",
    "  # STD_train_level1=torch.std((psi_train_input_Tr_torch.flatten()))\n",
    "  M_train_level1 = torch.mean(psi_train_input_Tr_torch, (0,2,3))\n",
    "  STD_train_level1 = torch.std(psi_train_input_Tr_torch, (0,2,3))\n",
    "\n",
    "#  M_train_level1=0\n",
    "#  STD_train_level1=1\n",
    "\n",
    "  # psi_train_input_Tr_torch_norm_level1 = ((psi_train_input_Tr_torch[:,0,None,:,:]-M_train_level1)/STD_train_level1)\n",
    "  # psi_train_label_Tr_torch_norm_level1 = ((psi_train_label_Tr_torch[:,0,None,:,:]-M_train_level1)/STD_train_level1)\n",
    "  \n",
    "  psi_train_input_Tr_torch_norm_level1 = torch.zeros_like(psi_train_input_Tr_torch)\n",
    "  psi_train_label_Tr_torch_norm_level1 = torch.zeros_like(psi_train_label_Tr_torch)\n",
    "\n",
    "  for i in range(len(varlist)):\n",
    "      psi_train_input_Tr_torch_norm_level1[:,i,None,:,:] = ((psi_train_input_Tr_torch[:,i,None,:,:]-M_train_level1[i])/STD_train_level1[i])\n",
    "      psi_train_label_Tr_torch_norm_level1[:,i,None,:,:] = ((psi_train_label_Tr_torch[:,i,None,:,:]-M_train_level1[i])/STD_train_level1[i])\n",
    "\n",
    "\n",
    "  for step in range(0,trainN-batch_size,batch_size):\n",
    "      # get the inputs; data is a list of [inputs, labels]\n",
    "      indices = np.random.permutation(np.arange(start=step, stop=step+batch_size))\n",
    "      input_batch, label_batch = psi_train_input_Tr_torch_norm_level1[indices,:,:,:], psi_train_label_Tr_torch_norm_level1[indices,:,:,:]\n",
    "\n",
    "      input_batch = input_batch.permute(0,2,3,1)\n",
    "      label_batch = label_batch.permute(0,2,3,1)\n",
    "\n",
    "      # print('shape of input', input_batch.shape)\n",
    "      # print('shape of output', label_batch.shape)\n",
    "\n",
    "      # zero the parameter gradients\n",
    "      optimizer.zero_grad()\n",
    "\n",
    "      # forward + backward + optimize\n",
    "      # output= net(input_batch.cuda())\n",
    "      output = PECstep(net,input_batch.cuda())\n",
    "      # output = Eulerstep(net,input_batch.cuda())\n",
    "      # print('shape of FNO2D output',output.shape)\n",
    "      #        loss = regular_loss(output, label_batch_crop.cuda())\n",
    "      # print statistics\n",
    "      loss = spectral_loss(output, label_batch.cuda(),wavenum_init,wavenum_init_ydir,lamda_reg,(torch.tensor(ocean_grid)).cuda())\n",
    "#        loss = ocean_loss(output, label_batch_crop.cuda(),(torch.tensor(ocean_grid)).cuda())\n",
    "      loss.backward()\n",
    "      optimizer.step()\n",
    "      output_val = PECstep(net,(psi_test_input_Tr_torch_norm_level1[0:num_samples,:,0:Nlat,0:Nlon].reshape([num_samples,2,Nlat,Nlon])).permute(0,2,3,1))\n",
    "      # output_val = Eulerstep(net,(psi_test_input_Tr_torch_norm_level1[0:num_samples,:,0:Nlat,0:Nlon].reshape([num_samples,2,Nlat,Nlon])).permute(0,2,3,1))\n",
    "      \n",
    "      \n",
    "      val_loss = spectral_loss(output_val, (psi_test_label_Tr_torch_norm_level1[0:num_samples,:,0:Nlat,0:Nlon].reshape([num_samples,2,Nlat,Nlon])).permute(0,2,3,1).cuda(),wavenum_init,wavenum_init_ydir,lamda_reg,(torch.tensor(ocean_grid)).cuda())\n",
    "#        val_loss = ocean_loss(output_val, psi_test_label_Tr_torch[0:num_samples,:,0:Nlat-2,0:Nlon-1].reshape([num_samples,1,Nlat-2,Nlon-1]).cuda(),(torch.tensor(ocean_grid)).cuda())\n",
    "      if step % 100 == 0:    # print every 2000 mini-batches\n",
    "          print('[%d, %5d] loss: %.3f' %\n",
    "                (epoch + 1, step + 1, loss))\n",
    "          print('[%d, %5d] val_loss: %.3f' %\n",
    "                (epoch + 1, step + 1, val_loss))\n",
    "          running_loss = 0.0\n",
    "print('Finished Training')"
   ]
  },
  {
   "cell_type": "code",
   "execution_count": 18,
   "metadata": {},
   "outputs": [
    {
     "name": "stdout",
     "output_type": "stream",
     "text": [
      "BNN Model Saved\n"
     ]
    }
   ],
   "source": [
    "torch.save(net.state_dict(), path_outputs+'./dummy_BNN_FNO2D_PECstep_MSSHF_ocean_spectral_loss_modes_'+str(modes)+'_wavenum'+str(wavenum_init)+'lead'+str(lead)+'.pt')\n",
    "\n",
    "print('BNN Model Saved')"
   ]
  },
  {
   "cell_type": "code",
   "execution_count": null,
   "metadata": {},
   "outputs": [],
   "source": []
  },
  {
   "cell_type": "code",
   "execution_count": null,
   "metadata": {},
   "outputs": [],
   "source": []
  },
  {
   "cell_type": "code",
   "execution_count": null,
   "metadata": {},
   "outputs": [],
   "source": []
  },
  {
   "cell_type": "code",
   "execution_count": null,
   "metadata": {},
   "outputs": [],
   "source": []
  },
  {
   "cell_type": "code",
   "execution_count": null,
   "metadata": {},
   "outputs": [],
   "source": []
  },
  {
   "cell_type": "code",
   "execution_count": 23,
   "metadata": {},
   "outputs": [
    {
     "name": "stdout",
     "output_type": "stream",
     "text": [
      "torch.Size([8759, 1, 65, 121])\n",
      "torch.Size([8759, 1, 65, 121])\n"
     ]
    }
   ],
   "source": [
    "print(psi_test_input_Tr_torch_norm_level1.shape)\n",
    "print(psi_test_label_Tr_torch_norm_level1.shape)"
   ]
  },
  {
   "cell_type": "code",
   "execution_count": 30,
   "metadata": {},
   "outputs": [],
   "source": [
    "test_input_batch = psi_test_input_Tr_torch_norm_level1[10:11,:,:,:].permute(0,2,3,1)\n",
    "test_label_batch = psi_test_label_Tr_torch_norm_level1[10:11,:,:,:].permute(0,2,3,1)"
   ]
  },
  {
   "cell_type": "code",
   "execution_count": 49,
   "metadata": {},
   "outputs": [
    {
     "data": {
      "text/plain": [
       "torch.Size([1, 65, 121, 1])"
      ]
     },
     "execution_count": 49,
     "metadata": {},
     "output_type": "execute_result"
    }
   ],
   "source": [
    "test_label_batch.shape"
   ]
  },
  {
   "cell_type": "code",
   "execution_count": 45,
   "metadata": {},
   "outputs": [
    {
     "name": "stdout",
     "output_type": "stream",
     "text": [
      "tensor(0.0684, device='cuda:0', grad_fn=<MeanBackward0>)\n"
     ]
    }
   ],
   "source": [
    "optimizer.zero_grad()\n",
    "test_output = Eulerstep(net,test_input_batch.cuda())\n",
    "loss = regular_loss(test_output, test_label_batch.cuda())\n",
    "print(loss)\n",
    "loss.backward()\n",
    "\n"
   ]
  },
  {
   "cell_type": "code",
   "execution_count": 46,
   "metadata": {},
   "outputs": [
    {
     "ename": "RuntimeError",
     "evalue": "The size of tensor a (2) must match the size of tensor b (16) at non-singleton dimension 4",
     "output_type": "error",
     "traceback": [
      "\u001b[0;31m---------------------------------------------------------------------------\u001b[0m",
      "\u001b[0;31mRuntimeError\u001b[0m                              Traceback (most recent call last)",
      "Cell \u001b[0;32mIn[46], line 1\u001b[0m\n\u001b[0;32m----> 1\u001b[0m optimizer\u001b[39m.\u001b[39;49mstep()\n",
      "File \u001b[0;32m~/anaconda3/envs/dtas/lib/python3.9/site-packages/torch/optim/optimizer.py:280\u001b[0m, in \u001b[0;36mOptimizer.profile_hook_step.<locals>.wrapper\u001b[0;34m(*args, **kwargs)\u001b[0m\n\u001b[1;32m    276\u001b[0m         \u001b[39melse\u001b[39;00m:\n\u001b[1;32m    277\u001b[0m             \u001b[39mraise\u001b[39;00m \u001b[39mRuntimeError\u001b[39;00m(\u001b[39mf\u001b[39m\u001b[39m\"\u001b[39m\u001b[39m{\u001b[39;00mfunc\u001b[39m}\u001b[39;00m\u001b[39m must return None or a tuple of (new_args, new_kwargs),\u001b[39m\u001b[39m\"\u001b[39m\n\u001b[1;32m    278\u001b[0m                                \u001b[39mf\u001b[39m\u001b[39m\"\u001b[39m\u001b[39mbut got \u001b[39m\u001b[39m{\u001b[39;00mresult\u001b[39m}\u001b[39;00m\u001b[39m.\u001b[39m\u001b[39m\"\u001b[39m)\n\u001b[0;32m--> 280\u001b[0m out \u001b[39m=\u001b[39m func(\u001b[39m*\u001b[39;49margs, \u001b[39m*\u001b[39;49m\u001b[39m*\u001b[39;49mkwargs)\n\u001b[1;32m    281\u001b[0m \u001b[39mself\u001b[39m\u001b[39m.\u001b[39m_optimizer_step_code()\n\u001b[1;32m    283\u001b[0m \u001b[39m# call optimizer step post hooks\u001b[39;00m\n",
      "File \u001b[0;32m~/anaconda3/envs/dtas/lib/python3.9/site-packages/torch/optim/optimizer.py:33\u001b[0m, in \u001b[0;36m_use_grad_for_differentiable.<locals>._use_grad\u001b[0;34m(self, *args, **kwargs)\u001b[0m\n\u001b[1;32m     31\u001b[0m \u001b[39mtry\u001b[39;00m:\n\u001b[1;32m     32\u001b[0m     torch\u001b[39m.\u001b[39mset_grad_enabled(\u001b[39mself\u001b[39m\u001b[39m.\u001b[39mdefaults[\u001b[39m'\u001b[39m\u001b[39mdifferentiable\u001b[39m\u001b[39m'\u001b[39m])\n\u001b[0;32m---> 33\u001b[0m     ret \u001b[39m=\u001b[39m func(\u001b[39mself\u001b[39;49m, \u001b[39m*\u001b[39;49margs, \u001b[39m*\u001b[39;49m\u001b[39m*\u001b[39;49mkwargs)\n\u001b[1;32m     34\u001b[0m \u001b[39mfinally\u001b[39;00m:\n\u001b[1;32m     35\u001b[0m     torch\u001b[39m.\u001b[39mset_grad_enabled(prev_grad)\n",
      "File \u001b[0;32m~/anaconda3/envs/dtas/lib/python3.9/site-packages/torch/optim/adam.py:141\u001b[0m, in \u001b[0;36mAdam.step\u001b[0;34m(self, closure)\u001b[0m\n\u001b[1;32m    130\u001b[0m     beta1, beta2 \u001b[39m=\u001b[39m group[\u001b[39m'\u001b[39m\u001b[39mbetas\u001b[39m\u001b[39m'\u001b[39m]\n\u001b[1;32m    132\u001b[0m     \u001b[39mself\u001b[39m\u001b[39m.\u001b[39m_init_group(\n\u001b[1;32m    133\u001b[0m         group,\n\u001b[1;32m    134\u001b[0m         params_with_grad,\n\u001b[0;32m   (...)\u001b[0m\n\u001b[1;32m    138\u001b[0m         max_exp_avg_sqs,\n\u001b[1;32m    139\u001b[0m         state_steps)\n\u001b[0;32m--> 141\u001b[0m     adam(\n\u001b[1;32m    142\u001b[0m         params_with_grad,\n\u001b[1;32m    143\u001b[0m         grads,\n\u001b[1;32m    144\u001b[0m         exp_avgs,\n\u001b[1;32m    145\u001b[0m         exp_avg_sqs,\n\u001b[1;32m    146\u001b[0m         max_exp_avg_sqs,\n\u001b[1;32m    147\u001b[0m         state_steps,\n\u001b[1;32m    148\u001b[0m         amsgrad\u001b[39m=\u001b[39;49mgroup[\u001b[39m'\u001b[39;49m\u001b[39mamsgrad\u001b[39;49m\u001b[39m'\u001b[39;49m],\n\u001b[1;32m    149\u001b[0m         beta1\u001b[39m=\u001b[39;49mbeta1,\n\u001b[1;32m    150\u001b[0m         beta2\u001b[39m=\u001b[39;49mbeta2,\n\u001b[1;32m    151\u001b[0m         lr\u001b[39m=\u001b[39;49mgroup[\u001b[39m'\u001b[39;49m\u001b[39mlr\u001b[39;49m\u001b[39m'\u001b[39;49m],\n\u001b[1;32m    152\u001b[0m         weight_decay\u001b[39m=\u001b[39;49mgroup[\u001b[39m'\u001b[39;49m\u001b[39mweight_decay\u001b[39;49m\u001b[39m'\u001b[39;49m],\n\u001b[1;32m    153\u001b[0m         eps\u001b[39m=\u001b[39;49mgroup[\u001b[39m'\u001b[39;49m\u001b[39meps\u001b[39;49m\u001b[39m'\u001b[39;49m],\n\u001b[1;32m    154\u001b[0m         maximize\u001b[39m=\u001b[39;49mgroup[\u001b[39m'\u001b[39;49m\u001b[39mmaximize\u001b[39;49m\u001b[39m'\u001b[39;49m],\n\u001b[1;32m    155\u001b[0m         foreach\u001b[39m=\u001b[39;49mgroup[\u001b[39m'\u001b[39;49m\u001b[39mforeach\u001b[39;49m\u001b[39m'\u001b[39;49m],\n\u001b[1;32m    156\u001b[0m         capturable\u001b[39m=\u001b[39;49mgroup[\u001b[39m'\u001b[39;49m\u001b[39mcapturable\u001b[39;49m\u001b[39m'\u001b[39;49m],\n\u001b[1;32m    157\u001b[0m         differentiable\u001b[39m=\u001b[39;49mgroup[\u001b[39m'\u001b[39;49m\u001b[39mdifferentiable\u001b[39;49m\u001b[39m'\u001b[39;49m],\n\u001b[1;32m    158\u001b[0m         fused\u001b[39m=\u001b[39;49mgroup[\u001b[39m'\u001b[39;49m\u001b[39mfused\u001b[39;49m\u001b[39m'\u001b[39;49m],\n\u001b[1;32m    159\u001b[0m         grad_scale\u001b[39m=\u001b[39;49m\u001b[39mgetattr\u001b[39;49m(\u001b[39mself\u001b[39;49m, \u001b[39m\"\u001b[39;49m\u001b[39mgrad_scale\u001b[39;49m\u001b[39m\"\u001b[39;49m, \u001b[39mNone\u001b[39;49;00m),\n\u001b[1;32m    160\u001b[0m         found_inf\u001b[39m=\u001b[39;49m\u001b[39mgetattr\u001b[39;49m(\u001b[39mself\u001b[39;49m, \u001b[39m\"\u001b[39;49m\u001b[39mfound_inf\u001b[39;49m\u001b[39m\"\u001b[39;49m, \u001b[39mNone\u001b[39;49;00m),\n\u001b[1;32m    161\u001b[0m     )\n\u001b[1;32m    163\u001b[0m \u001b[39mreturn\u001b[39;00m loss\n",
      "File \u001b[0;32m~/anaconda3/envs/dtas/lib/python3.9/site-packages/torch/optim/adam.py:281\u001b[0m, in \u001b[0;36madam\u001b[0;34m(params, grads, exp_avgs, exp_avg_sqs, max_exp_avg_sqs, state_steps, foreach, capturable, differentiable, fused, grad_scale, found_inf, amsgrad, beta1, beta2, lr, weight_decay, eps, maximize)\u001b[0m\n\u001b[1;32m    278\u001b[0m \u001b[39melse\u001b[39;00m:\n\u001b[1;32m    279\u001b[0m     func \u001b[39m=\u001b[39m _single_tensor_adam\n\u001b[0;32m--> 281\u001b[0m func(params,\n\u001b[1;32m    282\u001b[0m      grads,\n\u001b[1;32m    283\u001b[0m      exp_avgs,\n\u001b[1;32m    284\u001b[0m      exp_avg_sqs,\n\u001b[1;32m    285\u001b[0m      max_exp_avg_sqs,\n\u001b[1;32m    286\u001b[0m      state_steps,\n\u001b[1;32m    287\u001b[0m      amsgrad\u001b[39m=\u001b[39;49mamsgrad,\n\u001b[1;32m    288\u001b[0m      beta1\u001b[39m=\u001b[39;49mbeta1,\n\u001b[1;32m    289\u001b[0m      beta2\u001b[39m=\u001b[39;49mbeta2,\n\u001b[1;32m    290\u001b[0m      lr\u001b[39m=\u001b[39;49mlr,\n\u001b[1;32m    291\u001b[0m      weight_decay\u001b[39m=\u001b[39;49mweight_decay,\n\u001b[1;32m    292\u001b[0m      eps\u001b[39m=\u001b[39;49meps,\n\u001b[1;32m    293\u001b[0m      maximize\u001b[39m=\u001b[39;49mmaximize,\n\u001b[1;32m    294\u001b[0m      capturable\u001b[39m=\u001b[39;49mcapturable,\n\u001b[1;32m    295\u001b[0m      differentiable\u001b[39m=\u001b[39;49mdifferentiable,\n\u001b[1;32m    296\u001b[0m      grad_scale\u001b[39m=\u001b[39;49mgrad_scale,\n\u001b[1;32m    297\u001b[0m      found_inf\u001b[39m=\u001b[39;49mfound_inf)\n",
      "File \u001b[0;32m~/anaconda3/envs/dtas/lib/python3.9/site-packages/torch/optim/adam.py:442\u001b[0m, in \u001b[0;36m_multi_tensor_adam\u001b[0;34m(params, grads, exp_avgs, exp_avg_sqs, max_exp_avg_sqs, state_steps, grad_scale, found_inf, amsgrad, beta1, beta2, lr, weight_decay, eps, maximize, capturable, differentiable)\u001b[0m\n\u001b[1;32m    439\u001b[0m torch\u001b[39m.\u001b[39m_foreach_add_(device_state_steps, \u001b[39m1\u001b[39m)\n\u001b[1;32m    441\u001b[0m \u001b[39mif\u001b[39;00m weight_decay \u001b[39m!=\u001b[39m \u001b[39m0\u001b[39m:\n\u001b[0;32m--> 442\u001b[0m     device_grads \u001b[39m=\u001b[39m torch\u001b[39m.\u001b[39;49m_foreach_add(device_grads, device_params, alpha\u001b[39m=\u001b[39;49mweight_decay)\n\u001b[1;32m    444\u001b[0m \u001b[39m# Decay the first and second moment running average coefficient\u001b[39;00m\n\u001b[1;32m    445\u001b[0m torch\u001b[39m.\u001b[39m_foreach_mul_(device_exp_avgs, beta1)\n",
      "\u001b[0;31mRuntimeError\u001b[0m: The size of tensor a (2) must match the size of tensor b (16) at non-singleton dimension 4"
     ]
    }
   ],
   "source": [
    "optimizer.step()"
   ]
  },
  {
   "cell_type": "code",
   "execution_count": 44,
   "metadata": {},
   "outputs": [
    {
     "data": {
      "text/plain": [
       "torch.Size([1, 65, 121, 1])"
      ]
     },
     "execution_count": 44,
     "metadata": {},
     "output_type": "execute_result"
    }
   ],
   "source": [
    "test_output.shape"
   ]
  },
  {
   "cell_type": "code",
   "execution_count": null,
   "metadata": {},
   "outputs": [],
   "source": []
  },
  {
   "cell_type": "code",
   "execution_count": 39,
   "metadata": {},
   "outputs": [
    {
     "data": {
      "image/png": "[encoded data removed]",
      "text/plain": [
       "<Figure size 640x480 with 1 Axes>"
      ]
     },
     "metadata": {},
     "output_type": "display_data"
    },
    {
     "data": {
      "image/png": "[encoded data removed]",
      "text/plain": [
       "<Figure size 640x480 with 1 Axes>"
      ]
     },
     "metadata": {},
     "output_type": "display_data"
    },
    {
     "data": {
      "image/png": "[encoded data removed]",
      "text/plain": [
       "<Figure size 640x480 with 1 Axes>"
      ]
     },
     "metadata": {},
     "output_type": "display_data"
    }
   ],
   "source": [
    "plt.imshow(test_input_batch[0,:,:,0])\n",
    "plt.show()\n",
    "plt.imshow(test_label_batch[0,:,:,0])\n",
    "plt.show()\n",
    "plt.imshow(test_output.detach().cpu().numpy()[0,:,:,0])\n",
    "plt.show()\n"
   ]
  },
  {
   "cell_type": "code",
   "execution_count": 34,
   "metadata": {},
   "outputs": [
    {
     "data": {
      "text/plain": [
       "torch.Size([65, 121])"
      ]
     },
     "execution_count": 34,
     "metadata": {},
     "output_type": "execute_result"
    }
   ],
   "source": []
  },
  {
   "cell_type": "code",
   "execution_count": null,
   "metadata": {},
   "outputs": [],
   "source": []
  }
 ],
 "metadata": {
  "kernelspec": {
   "display_name": "dtas",
   "language": "python",
   "name": "python3"
  },
  "language_info": {
   "codemirror_mode": {
    "name": "ipython",
    "version": 3
   },
   "file_extension": ".py",
   "mimetype": "text/x-python",
   "name": "python",
   "nbconvert_exporter": "python",
   "pygments_lexer": "ipython3",
   "version": "3.9.16"
  },
  "orig_nbformat": 4
 },
 "nbformat": 4,
 "nbformat_minor": 2
}
